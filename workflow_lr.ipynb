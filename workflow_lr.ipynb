{
 "cells": [
  {
   "cell_type": "code",
   "execution_count": 1,
   "metadata": {},
   "outputs": [],
   "source": [
    "import torch\n",
    "from torch import nn\n",
    "import matplotlib.pyplot as plt\n",
    "import numpy as np"
   ]
  },
  {
   "cell_type": "code",
   "execution_count": 2,
   "metadata": {},
   "outputs": [
    {
     "data": {
      "text/plain": [
       "'2.4.1+cu121'"
      ]
     },
     "execution_count": 2,
     "metadata": {},
     "output_type": "execute_result"
    }
   ],
   "source": [
    "torch.__version__"
   ]
  },
  {
   "cell_type": "markdown",
   "metadata": {},
   "source": [
    "## data preparing and loading"
   ]
  },
  {
   "cell_type": "markdown",
   "metadata": {},
   "source": [
    "#### linear regresion "
   ]
  },
  {
   "cell_type": "code",
   "execution_count": 3,
   "metadata": {},
   "outputs": [
    {
     "data": {
      "text/plain": [
       "(tensor([[0.0000],\n",
       "         [0.0200],\n",
       "         [0.0400],\n",
       "         [0.0600],\n",
       "         [0.0800],\n",
       "         [0.1000],\n",
       "         [0.1200],\n",
       "         [0.1400],\n",
       "         [0.1600],\n",
       "         [0.1800]]),\n",
       " tensor([[0.3000],\n",
       "         [0.3140],\n",
       "         [0.3280],\n",
       "         [0.3420],\n",
       "         [0.3560],\n",
       "         [0.3700],\n",
       "         [0.3840],\n",
       "         [0.3980],\n",
       "         [0.4120],\n",
       "         [0.4260]]),\n",
       " 50,\n",
       " 50)"
      ]
     },
     "execution_count": 3,
     "metadata": {},
     "output_type": "execute_result"
    }
   ],
   "source": [
    "weight = 0.7\n",
    "bias = 0.3\n",
    "\n",
    "start =0\n",
    "end = 1\n",
    "step = 0.02\n",
    "x = torch.arange(start,end,step).unsqueeze(dim=1)\n",
    "y = weight * x + bias\n",
    "\n",
    "x[:10],y[:10], len(x), len(y)"
   ]
  },
  {
   "cell_type": "code",
   "execution_count": 4,
   "metadata": {},
   "outputs": [
    {
     "data": {
      "text/html": [
       "<div>\n",
       "<style scoped>\n",
       "    .dataframe tbody tr th:only-of-type {\n",
       "        vertical-align: middle;\n",
       "    }\n",
       "\n",
       "    .dataframe tbody tr th {\n",
       "        vertical-align: top;\n",
       "    }\n",
       "\n",
       "    .dataframe thead th {\n",
       "        text-align: right;\n",
       "    }\n",
       "</style>\n",
       "<table border=\"1\" class=\"dataframe\">\n",
       "  <thead>\n",
       "    <tr style=\"text-align: right;\">\n",
       "      <th></th>\n",
       "      <th>x</th>\n",
       "      <th>y</th>\n",
       "    </tr>\n",
       "  </thead>\n",
       "  <tbody>\n",
       "    <tr>\n",
       "      <th>0</th>\n",
       "      <td>0.00</td>\n",
       "      <td>0.300</td>\n",
       "    </tr>\n",
       "    <tr>\n",
       "      <th>1</th>\n",
       "      <td>0.02</td>\n",
       "      <td>0.314</td>\n",
       "    </tr>\n",
       "    <tr>\n",
       "      <th>2</th>\n",
       "      <td>0.04</td>\n",
       "      <td>0.328</td>\n",
       "    </tr>\n",
       "    <tr>\n",
       "      <th>3</th>\n",
       "      <td>0.06</td>\n",
       "      <td>0.342</td>\n",
       "    </tr>\n",
       "    <tr>\n",
       "      <th>4</th>\n",
       "      <td>0.08</td>\n",
       "      <td>0.356</td>\n",
       "    </tr>\n",
       "  </tbody>\n",
       "</table>\n",
       "</div>"
      ],
      "text/plain": [
       "      x      y\n",
       "0  0.00  0.300\n",
       "1  0.02  0.314\n",
       "2  0.04  0.328\n",
       "3  0.06  0.342\n",
       "4  0.08  0.356"
      ]
     },
     "execution_count": 4,
     "metadata": {},
     "output_type": "execute_result"
    }
   ],
   "source": [
    "import pandas as pd\n",
    "data = {\n",
    "    'x': x.squeeze(),\n",
    "    \"y\":y.squeeze()\n",
    "}\n",
    "df = pd.DataFrame(data)\n",
    "df.head()"
   ]
  },
  {
   "cell_type": "markdown",
   "metadata": {},
   "source": [
    "train, test split"
   ]
  },
  {
   "cell_type": "code",
   "execution_count": 5,
   "metadata": {},
   "outputs": [
    {
     "data": {
      "text/plain": [
       "(40, 40, 10, 10)"
      ]
     },
     "execution_count": 5,
     "metadata": {},
     "output_type": "execute_result"
    }
   ],
   "source": [
    "train_split = int(0.8*len(x))\n",
    "xtrain,ytrain = x[:train_split],y[:train_split]\n",
    "xtest,ytest = x[train_split:],y[train_split:]\n",
    "\n",
    "\n",
    "len(xtrain),len(ytrain),len(xtest),len(ytest)"
   ]
  },
  {
   "cell_type": "code",
   "execution_count": 6,
   "metadata": {},
   "outputs": [],
   "source": [
    "def plot_predictions(\n",
    "    train_data=xtrain,\n",
    "    train_labels=ytrain,\n",
    "    test_data=xtest,\n",
    "    test_labels=ytest,\n",
    "    predictions=None,\n",
    "):\n",
    "    \"\"\"\n",
    "    plot training data, test data and compares predictions.\n",
    "    \"\"\"\n",
    "\n",
    "    plt.figure(figsize=(5,3))\n",
    "    plt.scatter(train_data, train_labels, c=\"b\", s=4, label=\"training data\")\n",
    "    plt.scatter(test_data, test_labels, c=\"g\", s=4, label=\"testing data\")\n",
    "\n",
    "    if predictions is not None:\n",
    "        plt.scatter(test_data, predictions, c=\"r\", s=4, label=\"predictions\")\n",
    "\n",
    "    plt.legend(prop={\"size\": 10})"
   ]
  },
  {
   "cell_type": "code",
   "execution_count": 7,
   "metadata": {},
   "outputs": [
    {
     "data": {
      "image/png": "[encoded data removed]",
      "text/plain": [
       "<Figure size 500x300 with 1 Axes>"
      ]
     },
     "metadata": {},
     "output_type": "display_data"
    }
   ],
   "source": [
    "plot_predictions()"
   ]
  },
  {
   "cell_type": "code",
   "execution_count": 8,
   "metadata": {},
   "outputs": [],
   "source": [
    "# model building\n",
    "class LinearRegressionModel(nn.Module):\n",
    "    def __init__(self):\n",
    "        super().__init__()\n",
    "        self.weights = nn.Parameter(\n",
    "            torch.randn(1, requires_grad=True, dtype=torch.float)\n",
    "        )\n",
    "        self.bias = nn.Parameter(torch.randn(1, requires_grad=True, dtype=torch.float))\n",
    "        \n",
    "    def forward(self, x: torch.Tensor) -> torch.Tensor:\n",
    "        return self.weights * x + self.bias"
   ]
  },
  {
   "cell_type": "code",
   "execution_count": 9,
   "metadata": {},
   "outputs": [
    {
     "data": {
      "text/plain": [
       "[Parameter containing:\n",
       " tensor([0.0684], requires_grad=True),\n",
       " Parameter containing:\n",
       " tensor([0.6232], requires_grad=True)]"
      ]
     },
     "execution_count": 9,
     "metadata": {},
     "output_type": "execute_result"
    }
   ],
   "source": [
    "model_0 = LinearRegressionModel()\n",
    "list(model_0.parameters())"
   ]
  },
  {
   "cell_type": "code",
   "execution_count": 10,
   "metadata": {},
   "outputs": [
    {
     "data": {
      "text/plain": [
       "OrderedDict([('weights', tensor([0.0684])), ('bias', tensor([0.6232]))])"
      ]
     },
     "execution_count": 10,
     "metadata": {},
     "output_type": "execute_result"
    }
   ],
   "source": [
    "model_0.state_dict()"
   ]
  },
  {
   "cell_type": "code",
   "execution_count": 11,
   "metadata": {},
   "outputs": [
    {
     "data": {
      "text/plain": [
       "tensor([[0.6779],\n",
       "        [0.6793],\n",
       "        [0.6806],\n",
       "        [0.6820],\n",
       "        [0.6834],\n",
       "        [0.6847],\n",
       "        [0.6861],\n",
       "        [0.6875],\n",
       "        [0.6889],\n",
       "        [0.6902]])"
      ]
     },
     "execution_count": 11,
     "metadata": {},
     "output_type": "execute_result"
    }
   ],
   "source": [
    "with torch.inference_mode():\n",
    "    ypred = model_0(xtest)\n",
    "    \n",
    "ypred"
   ]
  },
  {
   "cell_type": "code",
   "execution_count": 12,
   "metadata": {},
   "outputs": [
    {
     "data": {
      "image/png": "[encoded data removed]",
      "text/plain": [
       "<Figure size 500x300 with 1 Axes>"
      ]
     },
     "metadata": {},
     "output_type": "display_data"
    }
   ],
   "source": [
    "plot_predictions(predictions=ypred)"
   ]
  },
  {
   "cell_type": "code",
   "execution_count": 13,
   "metadata": {},
   "outputs": [
    {
     "data": {
      "text/plain": [
       "tensor([[0.6779],\n",
       "        [0.6793],\n",
       "        [0.6806],\n",
       "        [0.6820],\n",
       "        [0.6834],\n",
       "        [0.6847],\n",
       "        [0.6861],\n",
       "        [0.6875],\n",
       "        [0.6889],\n",
       "        [0.6902]], grad_fn=<AddBackward0>)"
      ]
     },
     "execution_count": 13,
     "metadata": {},
     "output_type": "execute_result"
    }
   ],
   "source": [
    "ypreds = model_0(xtest)\n",
    "ypreds"
   ]
  },
  {
   "cell_type": "markdown",
   "metadata": {},
   "source": [
    "#### this one gives grad function , so infrence mode doesnot track the gradient, which doesnt store the unnecessary memory"
   ]
  },
  {
   "cell_type": "code",
   "execution_count": 14,
   "metadata": {},
   "outputs": [
    {
     "data": {
      "text/plain": [
       "tensor([[0.6779],\n",
       "        [0.6793],\n",
       "        [0.6806],\n",
       "        [0.6820],\n",
       "        [0.6834],\n",
       "        [0.6847],\n",
       "        [0.6861],\n",
       "        [0.6875],\n",
       "        [0.6889],\n",
       "        [0.6902]])"
      ]
     },
     "execution_count": 14,
     "metadata": {},
     "output_type": "execute_result"
    }
   ],
   "source": [
    "with torch.no_grad():   #no grad doesnt track the gradient\n",
    "    ypredss = model_0(xtest)\n",
    "    \n",
    "ypredss"
   ]
  },
  {
   "cell_type": "markdown",
   "metadata": {},
   "source": [
    "* **Loss funtions** : loss functions measures how wrong the model's predictions are with the actual data\n",
    "* **optimizers** : adjusts the models parameter\n",
    "\n",
    "\n",
    "in pytorch: we need a training loop and a testing loop."
   ]
  },
  {
   "cell_type": "code",
   "execution_count": 15,
   "metadata": {},
   "outputs": [],
   "source": [
    "## seting up a loss funtion\n",
    "loss_fn = nn.L1Loss() # L1 loss is mean absoluter loss \n",
    "#MAE_loss = torch.mean(torch.abs(ypred-ytest)) \n",
    "\n",
    "## setting up optimizers\n",
    "optimizer = torch.optim.SGD(params=model_0.parameters(),lr=0.01)"
   ]
  },
  {
   "cell_type": "markdown",
   "metadata": {},
   "source": [
    "### training and testing loop\n",
    "0. loop thru the data\n",
    "1. forward pass\n",
    "2. calculate the loss \n",
    "3. optimize zero gradd\n",
    "4. loss backward - move backward thru the network to calculate the gradient of each of the paramets of out model wtr the loss\n",
    "5. optmizer step - use the optim to adjust the model param to try to minimize the loss"
   ]
  },
  {
   "cell_type": "code",
   "execution_count": 16,
   "metadata": {},
   "outputs": [
    {
     "name": "stdout",
     "output_type": "stream",
     "text": [
      "Epoch: 0 | Loss: 0.13800093531608582 | Test Loss: 0.2413560450077057\n",
      "Epoch: 200 | Loss: 0.0625995546579361 | Test Loss: 0.1454509198665619\n",
      "Epoch: 400 | Loss: 0.0039647407829761505 | Test Loss: 0.004851883742958307\n",
      "Epoch: 600 | Loss: 0.0039647407829761505 | Test Loss: 0.004851883742958307\n",
      "Epoch: 800 | Loss: 0.0039647407829761505 | Test Loss: 0.004851883742958307\n",
      "Epoch: 1000 | Loss: 0.0039647407829761505 | Test Loss: 0.004851883742958307\n",
      "Epoch: 1200 | Loss: 0.0039647407829761505 | Test Loss: 0.004851883742958307\n",
      "Epoch: 1400 | Loss: 0.0039647407829761505 | Test Loss: 0.004851883742958307\n",
      "Epoch: 1600 | Loss: 0.0039647407829761505 | Test Loss: 0.004851883742958307\n",
      "Epoch: 1800 | Loss: 0.0039647407829761505 | Test Loss: 0.004851883742958307\n",
      "Epoch: 2000 | Loss: 0.0039647407829761505 | Test Loss: 0.004851883742958307\n",
      "Epoch: 2200 | Loss: 0.0039647407829761505 | Test Loss: 0.004851883742958307\n",
      "Epoch: 2400 | Loss: 0.0039647407829761505 | Test Loss: 0.004851883742958307\n",
      "Epoch: 2600 | Loss: 0.0039647407829761505 | Test Loss: 0.004851883742958307\n",
      "Epoch: 2800 | Loss: 0.0039647407829761505 | Test Loss: 0.004851883742958307\n",
      "Epoch: 3000 | Loss: 0.0039647407829761505 | Test Loss: 0.004851883742958307\n",
      "Epoch: 3200 | Loss: 0.0039647407829761505 | Test Loss: 0.004851883742958307\n",
      "Epoch: 3400 | Loss: 0.0039647407829761505 | Test Loss: 0.004851883742958307\n",
      "Epoch: 3600 | Loss: 0.0039647407829761505 | Test Loss: 0.004851883742958307\n",
      "Epoch: 3800 | Loss: 0.0039647407829761505 | Test Loss: 0.004851883742958307\n",
      "Epoch: 4000 | Loss: 0.0039647407829761505 | Test Loss: 0.004851883742958307\n",
      "Epoch: 4200 | Loss: 0.0039647407829761505 | Test Loss: 0.004851883742958307\n",
      "Epoch: 4400 | Loss: 0.0039647407829761505 | Test Loss: 0.004851883742958307\n",
      "Epoch: 4600 | Loss: 0.0039647407829761505 | Test Loss: 0.004851883742958307\n",
      "Epoch: 4800 | Loss: 0.0039647407829761505 | Test Loss: 0.004851883742958307\n",
      "Epoch: 5000 | Loss: 0.0039647407829761505 | Test Loss: 0.004851883742958307\n",
      "Epoch: 5200 | Loss: 0.0039647407829761505 | Test Loss: 0.004851883742958307\n",
      "Epoch: 5400 | Loss: 0.0039647407829761505 | Test Loss: 0.004851883742958307\n",
      "Epoch: 5600 | Loss: 0.0039647407829761505 | Test Loss: 0.004851883742958307\n",
      "Epoch: 5800 | Loss: 0.0039647407829761505 | Test Loss: 0.004851883742958307\n",
      "Epoch: 6000 | Loss: 0.0039647407829761505 | Test Loss: 0.004851883742958307\n",
      "Epoch: 6200 | Loss: 0.0039647407829761505 | Test Loss: 0.004851883742958307\n",
      "Epoch: 6400 | Loss: 0.0039647407829761505 | Test Loss: 0.004851883742958307\n",
      "Epoch: 6600 | Loss: 0.0039647407829761505 | Test Loss: 0.004851883742958307\n",
      "Epoch: 6800 | Loss: 0.0039647407829761505 | Test Loss: 0.004851883742958307\n",
      "Epoch: 7000 | Loss: 0.0039647407829761505 | Test Loss: 0.004851883742958307\n",
      "Epoch: 7200 | Loss: 0.0039647407829761505 | Test Loss: 0.004851883742958307\n",
      "Epoch: 7400 | Loss: 0.0039647407829761505 | Test Loss: 0.004851883742958307\n",
      "Epoch: 7600 | Loss: 0.0039647407829761505 | Test Loss: 0.004851883742958307\n",
      "Epoch: 7800 | Loss: 0.0039647407829761505 | Test Loss: 0.004851883742958307\n",
      "Epoch: 8000 | Loss: 0.0039647407829761505 | Test Loss: 0.004851883742958307\n",
      "Epoch: 8200 | Loss: 0.0039647407829761505 | Test Loss: 0.004851883742958307\n",
      "Epoch: 8400 | Loss: 0.0039647407829761505 | Test Loss: 0.004851883742958307\n",
      "Epoch: 8600 | Loss: 0.0039647407829761505 | Test Loss: 0.004851883742958307\n",
      "Epoch: 8800 | Loss: 0.0039647407829761505 | Test Loss: 0.004851883742958307\n",
      "Epoch: 9000 | Loss: 0.0039647407829761505 | Test Loss: 0.004851883742958307\n",
      "Epoch: 9200 | Loss: 0.0039647407829761505 | Test Loss: 0.004851883742958307\n",
      "Epoch: 9400 | Loss: 0.0039647407829761505 | Test Loss: 0.004851883742958307\n",
      "Epoch: 9600 | Loss: 0.0039647407829761505 | Test Loss: 0.004851883742958307\n",
      "Epoch: 9800 | Loss: 0.0039647407829761505 | Test Loss: 0.004851883742958307\n"
     ]
    }
   ],
   "source": [
    "epochs = 10000  # loop once thru the data\n",
    "\n",
    "epoch_count = []\n",
    "train_loss_values = []\n",
    "test_loss_values = []\n",
    "\n",
    "for epoch in range(epochs):\n",
    "    # set the model to trainin mode\n",
    "    model_0.train()  # sets the model to a state that require gradients for all the params\n",
    "\n",
    "    # 1. Forward pass\n",
    "    ytrain_pred = model_0(xtrain)\n",
    "\n",
    "    # 2. Calculate the Loss\n",
    "    train_loss = loss_fn(ytrain_pred,ytrain)\n",
    "\n",
    "    # 3. Optimize zero gradd\n",
    "    optimizer.zero_grad()\n",
    "    \n",
    "    # 4. Backpropagation / Loss backward\n",
    "    train_loss.backward()\n",
    "    \n",
    "    # 5. Optimizer step\n",
    "    optimizer.step()\n",
    "\n",
    "    \n",
    "    # set the model to testing mode\n",
    "    model_0.eval()  # sets the model to a state that turns of gradient tracking\n",
    "    with torch.inference_mode():\n",
    "        # 1. Forward pass\n",
    "        test_pred = model_0(xtest)\n",
    "        \n",
    "        # 2. Calculate the loss\n",
    "        test_loss = loss_fn(test_pred,ytest)\n",
    "        \n",
    "    if  epoch % 200 == 0:\n",
    "        epoch_count.append(epoch)\n",
    "        train_loss_values.append(train_loss)\n",
    "        test_loss_values.append(test_loss)\n",
    "        print(f'Epoch: {epoch} | Loss: {train_loss} | Test Loss: {test_loss}')"
   ]
  },
  {
   "cell_type": "code",
   "execution_count": 17,
   "metadata": {},
   "outputs": [
    {
     "data": {
      "text/plain": [
       "OrderedDict([('weights', tensor([0.6907])), ('bias', tensor([0.2997]))])"
      ]
     },
     "execution_count": 17,
     "metadata": {},
     "output_type": "execute_result"
    }
   ],
   "source": [
    "model_0.state_dict()"
   ]
  },
  {
   "cell_type": "code",
   "execution_count": 18,
   "metadata": {},
   "outputs": [
    {
     "data": {
      "text/plain": [
       "(0.7, 0.3)"
      ]
     },
     "execution_count": 18,
     "metadata": {},
     "output_type": "execute_result"
    }
   ],
   "source": [
    "weight,bias"
   ]
  },
  {
   "cell_type": "code",
   "execution_count": 19,
   "metadata": {},
   "outputs": [
    {
     "data": {
      "image/png": "[encoded data removed]",
      "text/plain": [
       "<Figure size 500x300 with 1 Axes>"
      ]
     },
     "metadata": {},
     "output_type": "display_data"
    }
   ],
   "source": [
    "plot_predictions(predictions=ypred)"
   ]
  },
  {
   "cell_type": "code",
   "execution_count": 20,
   "metadata": {},
   "outputs": [
    {
     "data": {
      "image/png": "[encoded data removed]",
      "text/plain": [
       "<Figure size 500x300 with 1 Axes>"
      ]
     },
     "metadata": {},
     "output_type": "display_data"
    }
   ],
   "source": [
    "plot_predictions(predictions=test_pred)"
   ]
  },
  {
   "cell_type": "code",
   "execution_count": 21,
   "metadata": {},
   "outputs": [
    {
     "data": {
      "text/plain": [
       "<matplotlib.legend.Legend at 0x1f435fa5950>"
      ]
     },
     "execution_count": 21,
     "metadata": {},
     "output_type": "execute_result"
    },
    {
     "data": {
      "image/png": "[encoded data removed]",
      "text/plain": [
       "<Figure size 640x480 with 1 Axes>"
      ]
     },
     "metadata": {},
     "output_type": "display_data"
    }
   ],
   "source": [
    "plt.plot(epoch_count,np.array(torch.tensor(train_loss_values).numpy()),label=\"Train Loss\")\n",
    "plt.plot(epoch_count,np.array(torch.tensor(test_loss_values).numpy()),label=\"Test Loss\")\n",
    "plt.title(\"Training and Testing loss curves\")\n",
    "plt.ylabel(\"Loss\")\n",
    "plt.xlabel(\"Epochs\")\n",
    "plt.legend()"
   ]
  },
  {
   "cell_type": "markdown",
   "metadata": {},
   "source": [
    "#### saving a model in pytorch\n",
    "\n",
    "1. `torch.save()` -  saves in pickle format \n",
    "2. `torch.load()` - loads model\n",
    "3. `torch.nn.Module.load_state_dict()`"
   ]
  },
  {
   "cell_type": "code",
   "execution_count": 24,
   "metadata": {},
   "outputs": [
    {
     "name": "stdout",
     "output_type": "stream",
     "text": [
      "Saving model to: models\\01_pytorch_LinearRegresssion_workflow.pth\n"
     ]
    }
   ],
   "source": [
    "from pathlib import Path\n",
    "\n",
    "MODEL_PATH = Path(\"models\")\n",
    "MODEL_PATH.mkdir(parents=True, exist_ok=True)\n",
    "\n",
    "MODEL_NAME = \"01_pytorch_LinearRegresssion_workflow.pth\"\n",
    "\n",
    "MODELS_SAVE_PATH = (\n",
    "    MODEL_PATH / MODEL_NAME\n",
    ")\n",
    "print(f\"Saving model to: {MODELS_SAVE_PATH}\")\n",
    "\n",
    "torch.save(obj=model_0.state_dict(), f=MODELS_SAVE_PATH)"
   ]
  },
  {
   "cell_type": "code",
   "execution_count": 25,
   "metadata": {},
   "outputs": [
    {
     "name": "stdout",
     "output_type": "stream",
     "text": [
      "total 4\n",
      "-rw-r--r-- 1 rahul 197609 1740 Oct 16 11:10 01_pytorch_LinearRegresssion_workflow.pth\n"
     ]
    }
   ],
   "source": [
    "!ls -l models"
   ]
  },
  {
   "cell_type": "code",
   "execution_count": 26,
   "metadata": {},
   "outputs": [
    {
     "name": "stderr",
     "output_type": "stream",
     "text": [
      "C:\\Users\\rahul\\AppData\\Local\\Temp\\ipykernel_17072\\3684975919.py:3: FutureWarning: You are using `torch.load` with `weights_only=False` (the current default value), which uses the default pickle module implicitly. It is possible to construct malicious pickle data which will execute arbitrary code during unpickling (See https://github.com/pytorch/pytorch/blob/main/SECURITY.md#untrusted-models for more details). In a future release, the default value for `weights_only` will be flipped to `True`. This limits the functions that could be executed during unpickling. Arbitrary objects will no longer be allowed to be loaded via this mode unless they are explicitly allowlisted by the user via `torch.serialization.add_safe_globals`. We recommend you start setting `weights_only=True` for any use case where you don't have full control of the loaded file. Please open an issue on GitHub for any issues related to this experimental feature.\n",
      "  loaded_model.load_state_dict(torch.load(f=MODELS_SAVE_PATH))\n"
     ]
    },
    {
     "data": {
      "text/plain": [
       "<All keys matched successfully>"
      ]
     },
     "execution_count": 26,
     "metadata": {},
     "output_type": "execute_result"
    }
   ],
   "source": [
    "## loading pytorch models \n",
    "loaded_model = LinearRegressionModel()\n",
    "loaded_model.load_state_dict(torch.load(f=MODELS_SAVE_PATH))"
   ]
  },
  {
   "cell_type": "code",
   "execution_count": 27,
   "metadata": {},
   "outputs": [
    {
     "data": {
      "text/plain": [
       "tensor([[0.8522],\n",
       "        [0.8660],\n",
       "        [0.8798],\n",
       "        [0.8937],\n",
       "        [0.9075],\n",
       "        [0.9213],\n",
       "        [0.9351],\n",
       "        [0.9489],\n",
       "        [0.9627],\n",
       "        [0.9765]])"
      ]
     },
     "execution_count": 27,
     "metadata": {},
     "output_type": "execute_result"
    }
   ],
   "source": [
    "with torch.inference_mode():\n",
    "    loaded_pred = loaded_model(xtest)\n",
    "loaded_pred"
   ]
  },
  {
   "cell_type": "code",
   "execution_count": 28,
   "metadata": {},
   "outputs": [
    {
     "data": {
      "text/plain": [
       "tensor([[True],\n",
       "        [True],\n",
       "        [True],\n",
       "        [True],\n",
       "        [True],\n",
       "        [True],\n",
       "        [True],\n",
       "        [True],\n",
       "        [True],\n",
       "        [True]])"
      ]
     },
     "execution_count": 28,
     "metadata": {},
     "output_type": "execute_result"
    }
   ],
   "source": [
    "test_pred == loaded_pred"
   ]
  },
  {
   "cell_type": "markdown",
   "metadata": {},
   "source": [
    "##  alternate method to create model"
   ]
  },
  {
   "cell_type": "code",
   "execution_count": 29,
   "metadata": {},
   "outputs": [
    {
     "data": {
      "text/plain": [
       "OrderedDict([('linear_layer.weight', tensor([[0.3124]])),\n",
       "             ('linear_layer.bias', tensor([0.5811]))])"
      ]
     },
     "execution_count": 29,
     "metadata": {},
     "output_type": "execute_result"
    }
   ],
   "source": [
    "class LinearRegressionModelv2(nn.Module):\n",
    "    def __init__(self):\n",
    "        super().__init__()\n",
    "\n",
    "        self.linear_layer = nn.Linear(in_features=1, out_features=1)\n",
    "        # Applies an affine linear transformation to the incoming data: :math:`y = xA^T + b`\n",
    "\n",
    "    def forward(self, x: torch.Tensor) -> torch.Tensor:\n",
    "        return self.linear_layer(x)\n",
    "\n",
    "\n",
    "model = LinearRegressionModelv2()\n",
    "model.state_dict()"
   ]
  },
  {
   "cell_type": "code",
   "execution_count": 34,
   "metadata": {},
   "outputs": [
    {
     "name": "stdout",
     "output_type": "stream",
     "text": [
      "cuda\n"
     ]
    }
   ],
   "source": [
    "device = \"cuda\" if torch.cuda.is_available() else \"cpu\"\n",
    "print(device)"
   ]
  },
  {
   "cell_type": "code",
   "execution_count": 35,
   "metadata": {},
   "outputs": [
    {
     "data": {
      "text/plain": [
       "device(type='cuda', index=0)"
      ]
     },
     "execution_count": 35,
     "metadata": {},
     "output_type": "execute_result"
    }
   ],
   "source": [
    "model.to(device)\n",
    "next(model.parameters()).device"
   ]
  },
  {
   "cell_type": "code",
   "execution_count": 36,
   "metadata": {},
   "outputs": [],
   "source": [
    "loss_fn = nn.L1Loss()\n",
    "optimizer = torch.optim.SGD(params=model.parameters(), lr=0.01 )"
   ]
  },
  {
   "cell_type": "code",
   "execution_count": 37,
   "metadata": {},
   "outputs": [
    {
     "name": "stdout",
     "output_type": "stream",
     "text": [
      "Epoch: 0 | Train Loss: 0.0 | Test Loss 0.06386388093233109\n",
      "Epoch: 50 | Train Loss: 0.0 | Test Loss 0.06386388093233109\n",
      "Epoch: 100 | Train Loss: 0.0 | Test Loss 0.06386388093233109\n",
      "Epoch: 150 | Train Loss: 0.0 | Test Loss 0.06386388093233109\n",
      "Epoch: 200 | Train Loss: 0.0 | Test Loss 0.06386388093233109\n",
      "Epoch: 250 | Train Loss: 0.0 | Test Loss 0.06386388093233109\n",
      "Epoch: 300 | Train Loss: 0.0 | Test Loss 0.06386388093233109\n",
      "Epoch: 350 | Train Loss: 0.0 | Test Loss 0.06386388093233109\n",
      "Epoch: 400 | Train Loss: 0.0 | Test Loss 0.06386388093233109\n",
      "Epoch: 450 | Train Loss: 0.0 | Test Loss 0.06386388093233109\n"
     ]
    }
   ],
   "source": [
    "epochs = 500\n",
    "epoch_value=[]\n",
    "train_loss_values = []\n",
    "test_loss_values = []\n",
    "\n",
    "# device agnostic device for data\n",
    "xtrain = xtrain.to(device)\n",
    "xtest = xtest.to(device)\n",
    "ytrain = ytrain.to(device)\n",
    "ytest = ytest.to(device)\n",
    "\n",
    "\n",
    "for epoch in range(epochs):\n",
    "    model.train()\n",
    "    ytrain_pred = model(xtrain)\n",
    "    train_loss = loss_fn(ytrain_pred,ytrain_pred)\n",
    "    optimizer.zero_grad()\n",
    "    train_loss.backward()\n",
    "    optimizer.step()\n",
    "    \n",
    "    model.eval()\n",
    "    with torch.inference_mode():\n",
    "        ypred = model(xtest)\n",
    "    test_loss = loss_fn(ypred,ytest)\n",
    "    \n",
    "    \n",
    "    if epoch % 50 == 0: \n",
    "        print(f'Epoch: {epoch} | Train Loss: {train_loss} | Test Loss {test_loss}')\n",
    "        epoch_value.append(epoch)\n",
    "        train_loss_values.append(train_loss)\n",
    "        test_loss_values.append(test_loss)"
   ]
  },
  {
   "cell_type": "code",
   "execution_count": 38,
   "metadata": {},
   "outputs": [
    {
     "data": {
      "text/plain": [
       "OrderedDict([('linear_layer.weight', tensor([[0.3124]], device='cuda:0')),\n",
       "             ('linear_layer.bias', tensor([0.5811], device='cuda:0'))])"
      ]
     },
     "execution_count": 38,
     "metadata": {},
     "output_type": "execute_result"
    }
   ],
   "source": [
    "model.state_dict()"
   ]
  },
  {
   "cell_type": "code",
   "execution_count": 42,
   "metadata": {},
   "outputs": [
    {
     "name": "stderr",
     "output_type": "stream",
     "text": [
      "C:\\Users\\rahul\\AppData\\Local\\Temp\\ipykernel_17072\\80958194.py:3: UserWarning: To copy construct from a tensor, it is recommended to use sourceTensor.clone().detach() or sourceTensor.clone().detach().requires_grad_(True), rather than torch.tensor(sourceTensor).\n",
      "  plot_predictions(predictions=torch.tensor(ypred).cpu())\n"
     ]
    },
    {
     "data": {
      "image/png": "[encoded data removed]",
      "text/plain": [
       "<Figure size 500x300 with 1 Axes>"
      ]
     },
     "metadata": {},
     "output_type": "display_data"
    }
   ],
   "source": [
    "with torch.inference_mode():\n",
    "    ypred = model(xtest)\n",
    "plot_predictions(predictions=torch.tensor(ypred).cpu())"
   ]
  },
  {
   "cell_type": "code",
   "execution_count": null,
   "metadata": {},
   "outputs": [],
   "source": []
  }
 ],
 "metadata": {
  "kernelspec": {
   "display_name": "base",
   "language": "python",
   "name": "python3"
  },
  "language_info": {
   "codemirror_mode": {
    "name": "ipython",
    "version": 3
   },
   "file_extension": ".py",
   "mimetype": "text/x-python",
   "name": "python",
   "nbconvert_exporter": "python",
   "pygments_lexer": "ipython3",
   "version": "3.11.5"
  }
 },
 "nbformat": 4,
 "nbformat_minor": 2
}
